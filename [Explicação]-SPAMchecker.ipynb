{
  "nbformat": 4,
  "nbformat_minor": 0,
  "metadata": {
    "colab": {
      "provenance": [],
      "authorship_tag": "ABX9TyMqCif5F/78dSiZnMy5dDeS",
      "include_colab_link": true
    },
    "kernelspec": {
      "name": "python3",
      "display_name": "Python 3"
    },
    "language_info": {
      "name": "python"
    }
  },
  "cells": [
    {
      "cell_type": "markdown",
      "metadata": {
        "id": "view-in-github",
        "colab_type": "text"
      },
      "source": [
        "<a href=\"https://colab.research.google.com/github/gabrielceravoloo/SPAMchecker/blob/main/SPAMchecker.ipynb\" target=\"_parent\"><img src=\"https://colab.research.google.com/assets/colab-badge.svg\" alt=\"Open In Colab\"/></a>"
      ]
    },
    {
      "cell_type": "markdown",
      "source": [
        "# Dataset e suas informações"
      ],
      "metadata": {
        "id": "vcDWEMv4wzbl"
      }
    },
    {
      "cell_type": "code",
      "source": [
        "# ==============================================================================\n",
        "\n",
        "# Dataset Spam email classification - Ashfak Yeafi\n",
        "df = pd.read_csv(\"./dataset/email.csv\")\n",
        "\n",
        "# Informações do dataset\n",
        "print(df.info())\n",
        "print(df.isnull().sum())                                                          # Verificar valores ausentes\n",
        "print(df['Category'].value_counts())                                              # Visualizar as classes (spam e ham)\n",
        "\n",
        "# ==============================================================================\n"
      ],
      "metadata": {
        "id": "AmZYBOgsw8zU"
      },
      "execution_count": null,
      "outputs": []
    },
    {
      "cell_type": "markdown",
      "source": [
        "# Explicação do codigo SPAMchecker\n"
      ],
      "metadata": {
        "id": "dvwCQpmDpuIH"
      }
    },
    {
      "cell_type": "markdown",
      "source": [
        "## 1. Importações e Pré-processamento do Dataset"
      ],
      "metadata": {
        "id": "j7iFYDbrG7oE"
      }
    },
    {
      "cell_type": "code",
      "execution_count": 46,
      "metadata": {
        "id": "BNEKHj2TRyCI",
        "collapsed": true
      },
      "outputs": [],
      "source": [
        "import numpy as np\n",
        "import pandas as pd\n",
        "import re\n",
        "from sklearn.model_selection import train_test_split\n",
        "from collections import defaultdict\n",
        "import math\n",
        "from termcolor import colored\n",
        "\n",
        "# Dataset Spam email classification - Ashfak Yeafi\n",
        "df = pd.read_csv(\"./dataset/email.csv\")\n",
        "\n",
        "# Pré-processamento\n",
        "def processar_mensagem(text):\n",
        "    text = text.lower()                                               # Converte o texto para minúsculas\n",
        "    text = re.sub(r'\\W', ' ', text)                                   # Remove caracteres especiais\n",
        "    text = re.sub(r'\\s+', ' ', text).strip()                          # Remove espaços em branco extras\n",
        "    return text\n",
        "\n",
        "# Aplicar o pré-processamento nas mensagens\n",
        "df['mensagem_processada'] = df['Message'].apply(processar_mensagem)"
      ]
    },
    {
      "cell_type": "markdown",
      "source": [
        "## 2. Coluna Binária (Ham ou Spam)\n",
        "\n",
        "As categorias **(Ham e Spam)** são convertidas para valores binários **(0 e 1)**"
      ],
      "metadata": {
        "id": "oSPYS_1E_i8I"
      }
    },
    {
      "cell_type": "code",
      "source": [
        "df['Spam'] = df['Category'].apply(lambda x: 1 if x == 'spam' else 0)"
      ],
      "metadata": {
        "id": "FH0IbX6S_ot5"
      },
      "execution_count": null,
      "outputs": []
    },
    {
      "cell_type": "markdown",
      "source": [
        "## 3. Divisão do Dataset em Treinamento e Teste\n",
        "\n",
        "**70%** dos dados são usados para treinar o modelo e **30%** para testar a performance do modelo treinado"
      ],
      "metadata": {
        "id": "A_sBiiN__9M-"
      }
    },
    {
      "cell_type": "code",
      "source": [
        "X_train, X_test, y_train, y_test = train_test_split(df['mensagem_processada'], df['Spam'], test_size=0.3, random_state=42)"
      ],
      "metadata": {
        "id": "8HyexoWzAmX0"
      },
      "execution_count": null,
      "outputs": []
    },
    {
      "cell_type": "markdown",
      "source": [
        "## 4. Implementação do Classificador Naive Bayes\n",
        "\n",
        "O modelo será baseado em **probabilidades condicionais**, onde cada palavra do email será calculada e classificada como (Ham ou Spam), e neste caso o Naive Bayes é o classificador mais adequado para esse projeto\n",
        "\n",
        "- **Método fit**: É usado para treinar o modelo contando a ocorrência de palavras em cada classe (Ham ou Spam) e calculando as probabilidades das classes\n",
        "\n",
        "- **Método predict**: Faz previsões, calculando as probabilidades de uma mensagem ser (ham ou spam) com base nas palavras presentes e retorna a classe com maior probabilidade"
      ],
      "metadata": {
        "id": "g2XJowjpxL2A"
      }
    },
    {
      "cell_type": "code",
      "source": [
        "class NaiveBayesClassifier:\n",
        "\n",
        "    def __init__(self):\n",
        "        self.word_probs = defaultdict(lambda: [0, 0])\n",
        "        self.class_probs = {}\n",
        "        self.vocab = set()\n",
        "        self.total_words = [0, 0]\n",
        "        self.class_counts = [0, 0]\n",
        "\n",
        "    def fit(self, X, y):\n",
        "\n",
        "        # Contagem de palavras\n",
        "        for message, label in zip(X, y):\n",
        "            class_index = label\n",
        "            self.class_counts[class_index] += 1\n",
        "            words = message.split()\n",
        "            self.total_words[class_index] += len(words)\n",
        "\n",
        "            for word in words:\n",
        "                self.vocab.add(word)\n",
        "                self.word_probs[word][class_index] += 1\n",
        "\n",
        "        # Calculo de probabilidade\n",
        "        total_count = sum(self.class_counts)\n",
        "        self.class_probs[0] = self.class_counts[0] / total_count\n",
        "        self.class_probs[1] = self.class_counts[1] / total_count\n",
        "\n",
        "    def predict(self, X):\n",
        "\n",
        "        predictions = []\n",
        "\n",
        "        for message in X:\n",
        "            words = message.split()\n",
        "            prob_ham = math.log(self.class_probs[0])\n",
        "            prob_spam = math.log(self.class_probs[1])\n",
        "\n",
        "            for word in words:\n",
        "                if word in self.vocab:\n",
        "                    prob_palavra_ham = (self.word_probs[word][0] + 1) / (self.total_words[0] + len(self.vocab))\n",
        "                    prob_palavra_spam = (self.word_probs[word][1] + 1) / (self.total_words[1] + len(self.vocab))\n",
        "                    prob_ham += math.log(prob_palavra_ham)\n",
        "                    prob_spam += math.log(prob_palavra_spam)\n",
        "\n",
        "            if prob_ham > prob_spam:\n",
        "                predictions.append(0)\n",
        "\n",
        "            else:\n",
        "                predictions.append(1)\n",
        "\n",
        "        return predictions\n",
        "\n",
        "# Treinamento do modelo\n",
        "nb = NaiveBayesClassifier()\n",
        "nb.fit(X_train, y_train)\n",
        "\n",
        "# Testes do modelo\n",
        "y_pred = nb.predict(X_test)"
      ],
      "metadata": {
        "id": "EdnzwTH-pnQV"
      },
      "execution_count": 60,
      "outputs": []
    },
    {
      "cell_type": "markdown",
      "source": [
        "## 5. Avaliação do Modelo\n",
        "\n",
        "A função **evaluate** calcula as principais métricas para avaliar a performance do modelo:\n",
        "\n",
        "- Precisão: (Proporção de acertos entre os casos classificados como \"spam\")\n",
        "- Recall: (Proporção de \"spams\" acertados)\n",
        "- F1 Score: (Média entre precisão e recall)\n",
        "- Acurácia: (Proporção total de acertos)\n"
      ],
      "metadata": {
        "id": "cl4DVuRMDCvm"
      }
    },
    {
      "cell_type": "code",
      "source": [
        "def evaluate(y_true, y_pred):\n",
        "    verdadeiro_positivo = sum((y_true == 1) & (y_pred == 1))\n",
        "    verdadeiro_negativo = sum((y_true == 0) & (y_pred == 0))\n",
        "    falso_positivo = sum((y_true == 0) & (y_pred == 1))\n",
        "    falso_negativo = sum((y_true == 1) & (y_pred == 0))\n",
        "\n",
        "    precisao = verdadeiro_positivo / (verdadeiro_positivo + falso_positivo) if (verdadeiro_positivo + falso_positivo) > 0 else 0\n",
        "    recall = verdadeiro_positivo / (verdadeiro_positivo + falso_negativo) if (verdadeiro_positivo + falso_negativo) > 0 else 0\n",
        "    f1_score = 2 * (precisao * recall) / (precisao + recall) if (precisao + recall) > 0 else 0\n",
        "    acuracia = (verdadeiro_positivo + verdadeiro_negativo) / len(y_true)\n",
        "\n",
        "    return {\n",
        "        'precisao': precisao,\n",
        "        'recall': recall,\n",
        "        'f1_score': f1_score,\n",
        "        'acuracia': acuracia\n",
        "    }\n",
        "\n",
        "# Avaliação do modelo\n",
        "resultados = evaluate(np.array(y_test), np.array(y_pred))\n",
        "print(f\"\\nPrecisão: {resultados['precisao']}\")\n",
        "print(f\"Recall: {resultados['recall']}\")\n",
        "print(f\"F1 Score: {resultados['f1_score']}\")\n",
        "print(f\"Acurácia: {resultados['acuracia']}\\n\")"
      ],
      "metadata": {
        "id": "jhjhxis0DD1c",
        "outputId": "80aac69f-e5ab-4a60-b793-f471c2a8ed5f",
        "colab": {
          "base_uri": "https://localhost:8080/"
        }
      },
      "execution_count": 61,
      "outputs": [
        {
          "output_type": "stream",
          "name": "stdout",
          "text": [
            "\n",
            "Precisão: 0.9712918660287081\n",
            "Recall: 0.9227272727272727\n",
            "F1 Score: 0.9463869463869464\n",
            "Acurácia: 0.986244019138756\n",
            "\n"
          ]
        }
      ]
    },
    {
      "cell_type": "markdown",
      "source": [
        "## 6. Teste com Novos E-mails"
      ],
      "metadata": {
        "id": "8V_g6luNEO7_"
      }
    },
    {
      "cell_type": "code",
      "source": [
        "mensagens_teste = [\n",
        "    \"Sounds great! Are you home now?\",\n",
        "    \"Will u meet ur dream partner soon? Is ur career off 2 a flyng start? 2 find out free, txt HORO followed by ur star sign, e. g. HORO ARIES\",\n",
        "    \"Congratulations! You've won a free ticket to Bahamas. Call now!\",\n",
        "    \"Hi, I hope you're doing well. Can we schedule a meeting?\",\n",
        "    \"Limited time offer: get a 50% discount on your next purchase!\"\n",
        "]\n",
        "\n",
        "# Pré-processar os novos emails de teste\n",
        "mensagens_text_processadas = [processar_mensagem(msg) for msg in mensagens_teste]\n",
        "\n",
        "# Fazer previsões\n",
        "predictions = nb.predict(mensagens_text_processadas)\n",
        "\n",
        "# Resultados das previsões\n",
        "for msg, pred in zip(mensagens_teste, predictions):\n",
        "    color = 'red' if pred == 1 else 'green'\n",
        "    label = 'SPAM' if pred == 1 else 'HAM '\n",
        "    print(f\"\\n[Classificação]: {colored(f'{label}', color)} - [Email]: '{msg}' \")"
      ],
      "metadata": {
        "id": "r_f8-PFmEb_D",
        "outputId": "7c3cf788-51f9-4c7b-c039-63b2649c8635",
        "colab": {
          "base_uri": "https://localhost:8080/"
        }
      },
      "execution_count": 92,
      "outputs": [
        {
          "output_type": "stream",
          "name": "stdout",
          "text": [
            "\n",
            "[Classificação]: HAM  - [Email]: 'Sounds great! Are you home now?' \n",
            "\n",
            "[Classificação]: SPAM - [Email]: 'Will u meet ur dream partner soon? Is ur career off 2 a flyng start? 2 find out free, txt HORO followed by ur star sign, e. g. HORO ARIES' \n",
            "\n",
            "[Classificação]: SPAM - [Email]: 'Congratulations! You've won a free ticket to Bahamas. Call now!' \n",
            "\n",
            "[Classificação]: HAM  - [Email]: 'Hi, I hope you're doing well. Can we schedule a meeting?' \n",
            "\n",
            "[Classificação]: SPAM - [Email]: 'Limited time offer: get a 50% discount on your next purchase!' \n"
          ]
        }
      ]
    }
  ]
}